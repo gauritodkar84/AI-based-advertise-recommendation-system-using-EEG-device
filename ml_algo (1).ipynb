{
  "nbformat": 4,
  "nbformat_minor": 0,
  "metadata": {
    "colab": {
      "provenance": []
    },
    "kernelspec": {
      "name": "python3",
      "display_name": "Python 3"
    },
    "language_info": {
      "name": "python"
    }
  },
  "cells": [
    {
      "cell_type": "code",
      "execution_count": null,
      "metadata": {
        "colab": {
          "base_uri": "https://localhost:8080/"
        },
        "id": "B3ba_GGYzjIu",
        "outputId": "2352d10a-cf89-48dd-d60c-d7ed9eac04ed"
      },
      "outputs": [
        {
          "output_type": "stream",
          "name": "stdout",
          "text": [
            "Evaluation Metrics:\n",
            "      Metric      Value\n",
            "0   Accuracy  79.310345\n",
            "1  Precision  79.519331\n",
            "2     Recall  79.310345\n",
            "3   F1 Score  77.413793\n",
            "\n",
            "Confusion Matrix:\n",
            "[[18  0  0]\n",
            " [ 0  0  1]\n",
            " [ 4  1  5]]\n"
          ]
        }
      ],
      "source": [
        "# Import necessary libraries\n",
        "import pandas as pd\n",
        "from sklearn.model_selection import train_test_split\n",
        "from sklearn.ensemble import RandomForestClassifier\n",
        "from sklearn.metrics import accuracy_score, precision_score, recall_score, f1_score, confusion_matrix\n",
        "\n",
        "# Load your dataset\n",
        "# Replace 'your_dataset.csv' with the actual filename or path to your dataset\n",
        "dataset = pd.read_csv('Dataset.csv')\n",
        "\n",
        "# Assuming 'Output' is your target column\n",
        "X = dataset.drop('Output', axis=1)\n",
        "y = dataset['Output']\n",
        "\n",
        "# Split the dataset into training and testing sets\n",
        "X_train, X_test, y_train, y_test = train_test_split(X, y, test_size=0.2, random_state=42)\n",
        "\n",
        "# Initialize the Random Forest classifier\n",
        "rf_classifier = RandomForestClassifier(random_state=42)\n",
        "\n",
        "# Train the classifier on the training data\n",
        "rf_classifier.fit(X_train, y_train)\n",
        "\n",
        "# Make predictions on the test set\n",
        "y_pred = rf_classifier.predict(X_test)\n",
        "\n",
        "# Calculate evaluation metrics\n",
        "accuracy = accuracy_score(y_test, y_pred) * 100\n",
        "precision = precision_score(y_test, y_pred, average='weighted') * 100\n",
        "recall = recall_score(y_test, y_pred, average='weighted') * 100\n",
        "f1 = f1_score(y_test, y_pred, average='weighted') * 100\n",
        "conf_matrix = confusion_matrix(y_test, y_pred)\n",
        "\n",
        "# Create a table for metrics\n",
        "metrics_table = pd.DataFrame({\n",
        "    'Metric': ['Accuracy', 'Precision', 'Recall', 'F1 Score'],\n",
        "    'Value': [accuracy, precision, recall, f1]\n",
        "})\n",
        "\n",
        "# Display the metrics table\n",
        "print(\"Evaluation Metrics:\")\n",
        "print(metrics_table)\n",
        "\n",
        "# Display the confusion matrix\n",
        "print(\"\\nConfusion Matrix:\")\n",
        "print(conf_matrix)\n"
      ]
    },
    {
      "cell_type": "code",
      "source": [
        "# Import necessary libraries\n",
        "import pandas as pd\n",
        "from sklearn.model_selection import train_test_split\n",
        "from sklearn.tree import DecisionTreeClassifier\n",
        "from sklearn.metrics import accuracy_score, precision_score, recall_score, f1_score, confusion_matrix\n",
        "\n",
        "# Load your dataset\n",
        "# Replace 'your_dataset.csv' with the actual filename or path to your dataset\n",
        "dataset = pd.read_csv('Dataset.csv')\n",
        "\n",
        "# Assuming 'Output' is your target column\n",
        "X = dataset.drop('Output', axis=1)\n",
        "y = dataset['Output']\n",
        "\n",
        "# Split the dataset into training and testing sets\n",
        "X_train, X_test, y_train, y_test = train_test_split(X, y, test_size=0.2, random_state=42)\n",
        "\n",
        "# Initialize the Decision Tree classifier\n",
        "dt_classifier = DecisionTreeClassifier(random_state=42)\n",
        "\n",
        "# Train the classifier on the training data\n",
        "dt_classifier.fit(X_train, y_train)\n",
        "\n",
        "# Make predictions on the test set\n",
        "y_pred = dt_classifier.predict(X_test)\n",
        "\n",
        "# Calculate evaluation metrics\n",
        "accuracy = accuracy_score(y_test, y_pred) * 100\n",
        "precision = precision_score(y_test, y_pred, average='weighted') * 100\n",
        "recall = recall_score(y_test, y_pred, average='weighted') * 100\n",
        "f1 = f1_score(y_test, y_pred, average='weighted') * 100\n",
        "conf_matrix = confusion_matrix(y_test, y_pred)\n",
        "\n",
        "# Create a table for metrics\n",
        "metrics_table = pd.DataFrame({\n",
        "    'Metric': ['Accuracy', 'Precision', 'Recall', 'F1 Score'],\n",
        "    'Value': [accuracy, precision, recall, f1]\n",
        "})\n",
        "\n",
        "# Display the metrics table\n",
        "print(\"Evaluation Metrics:\")\n",
        "print(metrics_table)\n",
        "\n",
        "# Display the confusion matrix\n",
        "print(\"\\nConfusion Matrix:\")\n",
        "print(conf_matrix)\n"
      ],
      "metadata": {
        "colab": {
          "base_uri": "https://localhost:8080/"
        },
        "id": "l21NIsEE1NYC",
        "outputId": "8b2feb8b-68af-41b3-b872-850570b333c7"
      },
      "execution_count": null,
      "outputs": [
        {
          "output_type": "stream",
          "name": "stdout",
          "text": [
            "Evaluation Metrics:\n",
            "      Metric      Value\n",
            "0   Accuracy  65.517241\n",
            "1  Precision  71.990321\n",
            "2     Recall  65.517241\n",
            "3   F1 Score  67.567568\n",
            "\n",
            "Confusion Matrix:\n",
            "[[15  2  1]\n",
            " [ 0  0  1]\n",
            " [ 4  2  4]]\n"
          ]
        }
      ]
    },
    {
      "cell_type": "code",
      "source": [
        "# Import necessary libraries\n",
        "import pandas as pd\n",
        "from sklearn.model_selection import train_test_split\n",
        "from sklearn.neighbors import KNeighborsClassifier\n",
        "from sklearn.metrics import accuracy_score, precision_score, recall_score, f1_score, confusion_matrix\n",
        "\n",
        "# Load your dataset\n",
        "# Replace 'your_dataset.csv' with the actual filename or path to your dataset\n",
        "dataset = pd.read_csv('Dataset.csv')\n",
        "\n",
        "# Assuming 'Output' is your target column\n",
        "X = dataset.drop('Output', axis=1)\n",
        "y = dataset['Output']\n",
        "\n",
        "# Split the dataset into training and testing sets\n",
        "X_train, X_test, y_train, y_test = train_test_split(X, y, test_size=0.2, random_state=42)\n",
        "\n",
        "# Initialize the KNN classifier\n",
        "knn_classifier = KNeighborsClassifier()\n",
        "\n",
        "# Train the classifier on the training data\n",
        "knn_classifier.fit(X_train, y_train)\n",
        "\n",
        "# Make predictions on the test set\n",
        "y_pred = knn_classifier.predict(X_test)\n",
        "\n",
        "# Calculate evaluation metrics\n",
        "accuracy = accuracy_score(y_test, y_pred) * 100\n",
        "precision = precision_score(y_test, y_pred, average='weighted') * 100\n",
        "recall = recall_score(y_test, y_pred, average='weighted') * 100\n",
        "f1 = f1_score(y_test, y_pred, average='weighted') * 100\n",
        "conf_matrix = confusion_matrix(y_test, y_pred)\n",
        "\n",
        "# Create a table for metrics\n",
        "metrics_table = pd.DataFrame({\n",
        "    'Metric': ['Accuracy', 'Precision', 'Recall', 'F1 Score'],\n",
        "    'Value': [accuracy, precision, recall, f1]\n",
        "})\n",
        "\n",
        "# Display the metrics table\n",
        "print(\"Evaluation Metrics:\")\n",
        "print(metrics_table)\n",
        "\n",
        "# Display the confusion matrix\n",
        "print(\"\\nConfusion Matrix:\")\n",
        "print(conf_matrix)\n"
      ],
      "metadata": {
        "colab": {
          "base_uri": "https://localhost:8080/"
        },
        "id": "IojDZPsn16fk",
        "outputId": "77c448c0-a664-43a9-ab67-b3f643e1df09"
      },
      "execution_count": null,
      "outputs": [
        {
          "output_type": "stream",
          "name": "stdout",
          "text": [
            "Evaluation Metrics:\n",
            "      Metric      Value\n",
            "0   Accuracy  48.275862\n",
            "1  Precision  51.149425\n",
            "2     Recall  48.275862\n",
            "3   F1 Score  48.779759\n",
            "\n",
            "Confusion Matrix:\n",
            "[[10  2  6]\n",
            " [ 0  1  0]\n",
            " [ 6  1  3]]\n"
          ]
        }
      ]
    },
    {
      "cell_type": "code",
      "source": [
        "# Import necessary libraries\n",
        "import pandas as pd\n",
        "from sklearn.model_selection import train_test_split\n",
        "from sklearn.svm import SVC\n",
        "from sklearn.metrics import accuracy_score, precision_score, recall_score, f1_score, confusion_matrix\n",
        "\n",
        "# Load your dataset\n",
        "# Replace 'your_dataset.csv' with the actual filename or path to your dataset\n",
        "dataset = pd.read_csv('Dataset.csv')\n",
        "\n",
        "# Assuming 'Output' is your target column\n",
        "X = dataset.drop('Output', axis=1)\n",
        "y = dataset['Output']\n",
        "\n",
        "# Split the dataset into training and testing sets\n",
        "X_train, X_test, y_train, y_test = train_test_split(X, y, test_size=0.2, random_state=42)\n",
        "\n",
        "# Initialize the SVM classifier\n",
        "svm_classifier = SVC()\n",
        "\n",
        "# Train the classifier on the training data\n",
        "svm_classifier.fit(X_train, y_train)\n",
        "\n",
        "# Make predictions on the test set\n",
        "y_pred = svm_classifier.predict(X_test)\n",
        "\n",
        "# Calculate evaluation metrics\n",
        "accuracy = accuracy_score(y_test, y_pred) * 100\n",
        "precision = precision_score(y_test, y_pred, average='weighted') * 100\n",
        "recall = recall_score(y_test, y_pred, average='weighted') * 100\n",
        "f1 = f1_score(y_test, y_pred, average='weighted') * 100\n",
        "conf_matrix = confusion_matrix(y_test, y_pred)\n",
        "\n",
        "# Create a table for metrics\n",
        "metrics_table = pd.DataFrame({\n",
        "    'Metric': ['Accuracy', 'Precision', 'Recall', 'F1 Score'],\n",
        "    'Value': [accuracy, precision, recall, f1]\n",
        "})\n",
        "\n",
        "# Display the metrics table\n",
        "print(\"Evaluation Metrics:\")\n",
        "print(metrics_table)\n",
        "\n",
        "# Display the confusion matrix\n",
        "print(\"\\nConfusion Matrix:\")\n",
        "print(conf_matrix)\n"
      ],
      "metadata": {
        "colab": {
          "base_uri": "https://localhost:8080/"
        },
        "id": "p8KL3ZTt2p5P",
        "outputId": "3da3be41-81d8-45ab-8827-184fbd89ed97"
      },
      "execution_count": null,
      "outputs": [
        {
          "output_type": "stream",
          "name": "stdout",
          "text": [
            "Evaluation Metrics:\n",
            "      Metric      Value\n",
            "0   Accuracy  65.517241\n",
            "1  Precision  74.384236\n",
            "2     Recall  65.517241\n",
            "3   F1 Score  54.845305\n",
            "\n",
            "Confusion Matrix:\n",
            "[[18  0  0]\n",
            " [ 1  0  0]\n",
            " [ 9  0  1]]\n"
          ]
        },
        {
          "output_type": "stream",
          "name": "stderr",
          "text": [
            "/usr/local/lib/python3.10/dist-packages/sklearn/metrics/_classification.py:1344: UndefinedMetricWarning: Precision is ill-defined and being set to 0.0 in labels with no predicted samples. Use `zero_division` parameter to control this behavior.\n",
            "  _warn_prf(average, modifier, msg_start, len(result))\n"
          ]
        }
      ]
    },
    {
      "cell_type": "code",
      "source": [
        "# Import necessary libraries\n",
        "import numpy as np\n",
        "import matplotlib.pyplot as plt\n",
        "import pandas as pd\n",
        "from sklearn.model_selection import train_test_split\n",
        "from sklearn.ensemble import RandomForestClassifier\n",
        "from sklearn.tree import DecisionTreeClassifier\n",
        "from sklearn.neighbors import KNeighborsClassifier\n",
        "from sklearn.svm import SVC\n",
        "from sklearn.metrics import accuracy_score, precision_score, recall_score, f1_score\n",
        "\n",
        "# Load your dataset using pandas\n",
        "# Replace 'your_dataset.csv' with the actual path to your CSV file\n",
        "df = pd.read_csv('Dataset.csv')\n",
        "\n",
        "# Assuming the last column is the target variable, adjust as needed\n",
        "X = df.iloc[:, :-1].values\n",
        "y = df.iloc[:, -1].values\n",
        "\n",
        "# Split the dataset into training and testing sets\n",
        "X_train, X_test, y_train, y_test = train_test_split(X, y, test_size=0.2, random_state=42)\n",
        "\n",
        "# Initialize classifiers\n",
        "rf_classifier = RandomForestClassifier(random_state=42)\n",
        "dt_classifier = DecisionTreeClassifier(random_state=42)\n",
        "knn_classifier = KNeighborsClassifier()\n",
        "svm_classifier = SVC(random_state=42)\n",
        "\n",
        "classifiers = [rf_classifier, dt_classifier, knn_classifier, svm_classifier]\n",
        "classifier_names = ['Random Forest', 'Decision Tree', 'K-Nearest Neighbors', 'SVM']\n",
        "\n",
        "# Lists to store evaluation metrics\n",
        "accuracy_scores = []\n",
        "precision_scores = []\n",
        "recall_scores = []\n",
        "f1_scores = []\n",
        "\n",
        "# Iterate through classifiers\n",
        "for classifier, name in zip(classifiers, classifier_names):\n",
        "    # Train the classifier\n",
        "    classifier.fit(X_train, y_train)\n",
        "\n",
        "    # Make predictions on the test set\n",
        "    y_pred = classifier.predict(X_test)\n",
        "\n",
        "    # Evaluate performance metrics\n",
        "    accuracy = accuracy_score(y_test, y_pred)\n",
        "    precision = precision_score(y_test, y_pred, average='weighted')  # Use 'weighted' for multiclass\n",
        "    recall = recall_score(y_test, y_pred, average='weighted')  # Use 'weighted' for multiclass\n",
        "    f1 = f1_score(y_test, y_pred, average='weighted')  # Use 'weighted' for multiclass\n",
        "\n",
        "    # Append metrics to lists\n",
        "    accuracy_scores.append(accuracy)\n",
        "    precision_scores.append(precision)\n",
        "    recall_scores.append(recall)\n",
        "    f1_scores.append(f1)\n",
        "\n",
        "    # Print metrics for each classifier\n",
        "    print(f'{name} Metrics:')\n",
        "    print(f'Accuracy: {accuracy:.4f}')\n",
        "    print(f'Precision: {precision:.4f}')\n",
        "    print(f'Recall: {recall:.4f}')\n",
        "    print(f'F1 Score: {f1:.4f}')\n",
        "    print('-' * 40)\n",
        "\n",
        "# Plotting the metrics\n",
        "fig, ax = plt.subplots(figsize=(12, 6))\n",
        "\n",
        "bar_width = 0.2\n",
        "index = np.arange(len(classifier_names))\n",
        "\n",
        "rect1 = ax.bar(index, accuracy_scores, bar_width, label='Accuracy')\n",
        "rect2 = ax.bar(index + bar_width, precision_scores, bar_width, label='Precision')\n",
        "rect3 = ax.bar(index + 2 * bar_width, recall_scores, bar_width, label='Recall')\n",
        "rect4 = ax.bar(index + 3 * bar_width, f1_scores, bar_width, label='F1 Score')\n",
        "\n",
        "ax.set_xlabel('Classifiers')\n",
        "ax.set_ylabel('Scores')\n",
        "ax.set_title('Comparison of Classification Metrics')\n",
        "ax.set_xticks(index + 1.5 * bar_width)\n",
        "ax.set_xticklabels(classifier_names)\n",
        "ax.legend()\n",
        "\n",
        "plt.show()\n"
      ],
      "metadata": {
        "colab": {
          "base_uri": "https://localhost:8080/",
          "height": 1000
        },
        "id": "Kqtxrh9Z6n6Q",
        "outputId": "e12185b1-7abe-4b45-cb6a-cc1c322098ba"
      },
      "execution_count": null,
      "outputs": [
        {
          "output_type": "stream",
          "name": "stdout",
          "text": [
            "Random Forest Metrics:\n",
            "Accuracy: 0.7931\n",
            "Precision: 0.7952\n",
            "Recall: 0.7931\n",
            "F1 Score: 0.7741\n",
            "----------------------------------------\n",
            "Decision Tree Metrics:\n",
            "Accuracy: 0.6552\n",
            "Precision: 0.7199\n",
            "Recall: 0.6552\n",
            "F1 Score: 0.6757\n",
            "----------------------------------------\n",
            "K-Nearest Neighbors Metrics:\n",
            "Accuracy: 0.4828\n",
            "Precision: 0.5115\n",
            "Recall: 0.4828\n",
            "F1 Score: 0.4878\n",
            "----------------------------------------\n",
            "SVM Metrics:\n",
            "Accuracy: 0.6552\n",
            "Precision: 0.7438\n",
            "Recall: 0.6552\n",
            "F1 Score: 0.5485\n",
            "----------------------------------------\n"
          ]
        },
        {
          "output_type": "stream",
          "name": "stderr",
          "text": [
            "/usr/local/lib/python3.10/dist-packages/sklearn/metrics/_classification.py:1344: UndefinedMetricWarning: Precision is ill-defined and being set to 0.0 in labels with no predicted samples. Use `zero_division` parameter to control this behavior.\n",
            "  _warn_prf(average, modifier, msg_start, len(result))\n"
          ]
        },
        {
          "output_type": "display_data",
          "data": {
            "text/plain": [
              "<Figure size 1200x600 with 1 Axes>"
            ],
            "image/png": "[encoded data removed]"
          },
          "metadata": {}
        }
      ]
    }
  ]
}